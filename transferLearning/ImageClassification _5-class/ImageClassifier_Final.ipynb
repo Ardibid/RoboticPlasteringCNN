{
 "cells": [
  {
   "cell_type": "markdown",
   "metadata": {},
   "source": [
    "# Image Classifier Module\n",
    "\n",
    "ArdavanBidgoli <br />\n",
    "CMU School of Architecture <br />\n",
    "Robotic Plastering Project <br />\n",
    "Feedback-loop image classifier <br />\n",
    "Tested with/for: <br />\n",
    "Tensorflow 0.12.1 <br />\n",
    "OpenCV 3.2.0-dev <br />\n",
    "this code has been inspired by:\n",
    "https://codelabs.developers.google.com/codelabs/tensorflow-for-poets/index.html?index=../../index#4"
   ]
  },
  {
   "cell_type": "markdown",
   "metadata": {},
   "source": [
    "## Imports"
   ]
  },
  {
   "cell_type": "code",
   "execution_count": 1,
   "metadata": {
    "collapsed": true
   },
   "outputs": [],
   "source": [
    "# Import Tensorflow\n",
    "import tensorflow as tf\n",
    "# Importing matplotlib and Numpy for image processing\n",
    "import numpy as np\n",
    "import matplotlib.pyplot as plt\n",
    "%matplotlib inline\n",
    "\n",
    "# Import libraries for:\n",
    "# System read and write, Checking object types, Time keeping\n",
    "import sys\n",
    "import time\n",
    "from shutil import copyfile\n",
    "\n",
    "# import os.path methods for file manipulation on the drive\n",
    "import os\n",
    "from os import listdir\n",
    "from os.path import isfile, join, exists\n",
    "\n",
    "# import json for json formatting\n",
    "import json"
   ]
  },
  {
   "cell_type": "markdown",
   "metadata": {},
   "source": [
    "## General Variables"
   ]
  },
  {
   "cell_type": "code",
   "execution_count": 2,
   "metadata": {
    "collapsed": true
   },
   "outputs": [],
   "source": [
    "# rate treshhold\n",
    "rateThreshold = 0.8\n",
    "# print in-progress report\n",
    "printSwitch = True\n",
    "# Sets the naming standard\n",
    "sampleFolder = \"test\"\n",
    "resultsFolder= \"results\"\n",
    "# Set log file info\n",
    "logFolder = \"log\"\n",
    "logFileName = \"log.txt\"\n",
    "failedSamplePath = \"fails\"\n",
    "\n",
    "retrainedLabels = \"retrained_labels.txt\"\n",
    "retrainedGraph = \"retrained_graph.pb\"\n",
    "\n",
    "# Error messages:\n",
    "nameFinderError= \"File names cannot be read\"\n",
    "fileReadError = \"Couldn't read files\"\n",
    "\n",
    "\n",
    "# Report messages:\n",
    "saveToFileReport = \"Data saved to the file: \""
   ]
  },
  {
   "cell_type": "markdown",
   "metadata": {},
   "source": [
    "## Helper Functions"
   ]
  },
  {
   "cell_type": "code",
   "execution_count": 3,
   "metadata": {
    "collapsed": true
   },
   "outputs": [],
   "source": [
    "# no helper function for this part yet"
   ]
  },
  {
   "cell_type": "markdown",
   "metadata": {},
   "source": [
    "## Classes\n",
    "\n",
    "### The Classifier\n",
    "This class gets the images in the tiles folder and based on the trained model will classify them.\n",
    "In this case it will classify them as:\n",
    "    unifinished\n",
    "    scratches\n",
    "    holes\n",
    "    pass\n",
    "Those which fall in categories except pass will be stored in the log folder for further inspection.\n",
    "The extra inspection code has not been implemented yet."
   ]
  },
  {
   "cell_type": "code",
   "execution_count": 4,
   "metadata": {
    "collapsed": true
   },
   "outputs": [],
   "source": [
    "class Classifier(object):\n",
    "    \n",
    "    def __init__(self):\n",
    "        # keep track of time\n",
    "        self.start_time = time.time()\n",
    "        # basic setup\n",
    "        self.logFolder = logFolder\n",
    "        self.sampleFolder= sampleFolder\n",
    "        self.logFolder = logFolder \n",
    "        self.logFileName = logFileName\n",
    "        self.retrainedLabels = retrainedLabels\n",
    "        self.retrainedGraph = retrainedGraph\n",
    "        self.failedSamplePath = failedSamplePath\n",
    "        self.rateThreshold = rateThreshold\n",
    "        \n",
    "        \n",
    "        # placeholders\n",
    "        self.samples = []\n",
    "        self.sampleNames = []\n",
    "        self.labels = []\n",
    "        self.rates = []\n",
    "        self.log = []\n",
    "        self.fails =  dict()\n",
    "        \n",
    "        # initiating the instance\n",
    "        Classifier.loadSamples(self)\n",
    "        Classifier.nameFinder(self)\n",
    "        Classifier.classifying(self)\n",
    "        #Classifier.fileLogger(self)\n",
    "        \n",
    "        pass\n",
    "    \n",
    "    def nameFinder(self, folder=None):\n",
    "        if folder == None : folder = self.sampleFolder\n",
    "        if (not Classifier.folderCheck(self,folder)):\n",
    "            return    \n",
    "        # filters only the .jpg files from the folder\n",
    "        try:\n",
    "            files = [f for f in listdir(folder) if isfile(join(folder, f))]\n",
    "            self.sampleNames = [f for f in files if f.split(\".\")[1] == \"jpg\"]\n",
    "            if len(self.sampleNames == 0) : return False\n",
    "        except:\n",
    "            print (nameFinderError)\n",
    "\n",
    "    # Reads the sample files\n",
    "    def loadSamples(self, folder = None):\n",
    "        if folder == None : folder = self.sampleFolder\n",
    "        if (not Classifier.folderCheck(self,folder)):\n",
    "            return    \n",
    "        \n",
    "        # Loads files at ./tests folder to test based on the trained model \n",
    "        # only lists the .jpg files\n",
    "        # collects all file names\n",
    "        try:\n",
    "            files = [f for f in listdir(folder) if isfile(join(folder, f))]\n",
    "            # filters only the .jpg files\n",
    "            images = [f for f in files if f.split(\".\")[1] == \"jpg\"]\n",
    "            size = len(images)\n",
    "            for img in images:\n",
    "                newPath = folder+\"/\"+img\n",
    "                newSample = tf.gfile.FastGFile(newPath, 'rb').read()\n",
    "                self.samples.append(newSample)\n",
    "        except:\n",
    "            print (fileReadError)\n",
    "            \n",
    "    # Classifies the images\n",
    "    def classifying(self,sampleData = None, sampleNames= None):\n",
    "        if sampleData == None : sampleData = self.samples\n",
    "        if sampleNames == None : sampleNames = self.sampleNames    \n",
    "        if (len(sampleData) < 1  or\n",
    "            len(sampleNames) < 1 or\n",
    "            sampleData == None   or\n",
    "            sampleNames == None):\n",
    "            #print (len(sampleData))\n",
    "            #print (len(sampleNames))\n",
    "            #print (\"failed\")\n",
    "            return False    \n",
    "        \n",
    "        \n",
    "        size = len(sampleData)\n",
    "        # Loads label file, strips off carriage return\n",
    "        label_lines = [line.rstrip() for line \n",
    "                       in tf.gfile.GFile(self.retrainedLabels)]\n",
    "        # Unpersists graph from file\n",
    "        with tf.gfile.FastGFile(self.retrainedGraph, 'rb') as f:\n",
    "            graph_def = tf.GraphDef()\n",
    "            graph_def.ParseFromString(f.read())\n",
    "            ####################################################\n",
    "            # just a hacky way to solve version discrpancies\n",
    "            # if using older versions of Tensorflow,\n",
    "            # remove this line!\n",
    "            del(graph_def.node[1].attr[\"dct_method\"])\n",
    "            ####################################################\n",
    "            _ = tf.import_graph_def(graph_def, name='')\n",
    "\n",
    "        with tf.Session() as sess:\n",
    "            # Feed the image_data as input to the graph and get first prediction\n",
    "            softmax_tensor = sess.graph.get_tensor_by_name('final_result:0')\n",
    "\n",
    "            # iterating over iamges\n",
    "            for i in range (size):\n",
    "            #for image_data_item in image_data:\n",
    "                predictions = sess.run(softmax_tensor, \\\n",
    "                         {'DecodeJpeg/contents:0': sampleData[i]})\n",
    "                # Sort to show labels of first prediction in order of confidence\n",
    "                top_k = predictions[0].argsort()[-len(predictions[0]):][::-1]\n",
    "                human_string = label_lines[top_k[0]]\n",
    "                score = predictions[0][top_k[0]]\n",
    "                \n",
    "                # update the scoreboard and labelboard\n",
    "                self.rates.append(score)\n",
    "                self.labels.append(human_string)\n",
    "                # print report during the process\n",
    "                #if (printSwitch):\n",
    "                    #print (\"smaple ID\", str(i))\n",
    "                    #print('%s (score = %.2f)' % (human_string, score))\n",
    "                    #print('Correct answer: %s' %(sampleNames[i][:4]))\n",
    "                    #print(\"------------------------------------\")\n",
    "                if (human_string != \"pass\" or score < rateThreshold):\n",
    "                    self.fails[sampleNames[i]] = human_string\n",
    "\n",
    "    def folderCheck(self,folder):\n",
    "        if not os.path.exists(folder):\n",
    "            os.makedirs(folder)\n",
    "            log =  (Classifier.makingAFolder+ folder)\n",
    "            TileSampler.logger(self, log)\n",
    "            return False\n",
    "        else:\n",
    "            #print (\"pass\")\n",
    "            return True\n",
    "        \n",
    "    def logger(self, message, header = None):\n",
    "        timeVal = time.strftime(\"%H:%M:%S: \")\n",
    "        if type(message) == list:\n",
    "            size = len(message)\n",
    "            tag = \"size: #\"+ str(size)+ \"|\"\n",
    "            message.insert (0,tag)\n",
    "            message = \" \".join(message)\n",
    "        \n",
    "        if header != None:\n",
    "            message = header  + message\n",
    "        message = timeVal + message\n",
    "        self.log.append(message)\n",
    "    \n",
    "    # Generates the log in log folder \n",
    "    def fileLogger(self):\n",
    "        Classifier.report(self)\n",
    "        Classifier.saveToFile(self)\n",
    "        Classifier.saveFailSamples(self) \n",
    "        \n",
    "    # Prints a brief report during the process\n",
    "    def report(self):\n",
    "        finish_time = time.time()\n",
    "        ellapsed_time = finish_time - self.start_time\n",
    "        average_time = ellapsed_time / float(len(self.samples))\n",
    "        \n",
    "        # Print the final report\n",
    "        print ('Total time:', str(int(ellapsed_time)))\n",
    "        print ('Average time:', str(average_time)) \n",
    "        print (\"------------------------------------\")\n",
    "        print (\"Failed samples:\")\n",
    "        for fail in self.fails:\n",
    "            print (fail,\"\\t\",self.fails[fail])\n",
    "        print(\"------------------------------------\")\n",
    "    \n",
    "    def saveToFile(self):\n",
    "        folder = self.logFolder\n",
    "        # converts fails to json format\n",
    "        jsonData = json.dumps(self.fails)\n",
    "\n",
    "        # check if the log directory exist\n",
    "        if not exists(folder):\n",
    "            os.makedirs(folder)\n",
    "            \n",
    "        # generates the file name to save the log\n",
    "        date_string = time.strftime(\"_%H_%M\")\n",
    "        newName = folder+date_string+\".txt\"\n",
    "        print (\"newName: \",newName)\n",
    "        newPath = os.path.join (folder, newName)\n",
    "        print (\"newPath: \",newPath)\n",
    "        \n",
    "        # writes to file\n",
    "        log = open(newPath, \"w\")\n",
    "        log.write(str(jsonData))\n",
    "        log.close()\n",
    "        print (saveToFileReport,newPath)\n",
    "        logData = (saveToFileReport+newPath)\n",
    "        Classifier.logger(self, logData)\n",
    "        \n",
    "    def saveFailSamples(self):\n",
    "        for fail in self.fails:\n",
    "            failedSamplePath = self.sampleFolder+\"/\"+fail\n",
    "            name= fail.split(\".\")\n",
    "            targetPath = self.logFolder+\"/\"+name[0]+\"_\"+self.fails[fail]+\".jpg\"\n",
    "            copyfile(failedSamplePath, targetPath)"
   ]
  },
  {
   "cell_type": "markdown",
   "metadata": {},
   "source": [
    "### Test\n",
    "This will run the classifier to classify images in the tiled folder and store rejected ones in the log folder."
   ]
  },
  {
   "cell_type": "code",
   "execution_count": 5,
   "metadata": {
    "scrolled": true
   },
   "outputs": [
    {
     "name": "stdout",
     "output_type": "stream",
     "text": [
      "File names cannot be read\n",
      "Wall time: 16.3 s\n"
     ]
    }
   ],
   "source": [
    "%%time\n",
    "classify = Classifier()"
   ]
  },
  {
   "cell_type": "markdown",
   "metadata": {},
   "source": [
    "### A histogram of the rates for every sample"
   ]
  },
  {
   "cell_type": "code",
   "execution_count": 6,
   "metadata": {},
   "outputs": [
    {
     "data": {
      "image/png": "[encoded data removed]",
      "text/plain": [
       "<matplotlib.figure.Figure at 0x23a8a63fc88>"
      ]
     },
     "metadata": {},
     "output_type": "display_data"
    }
   ],
   "source": [
    "plt.hist(classify.rates)\n",
    "plt.title(\"Gaussian Histogram\")\n",
    "plt.xlabel(\"Scores\")\n",
    "plt.ylabel(\"Frequency\")\n",
    "fig = plt.gcf()\n",
    "plt.show()"
   ]
  },
  {
   "cell_type": "markdown",
   "metadata": {},
   "source": [
    "### Detailed report of the rejected samples"
   ]
  },
  {
   "cell_type": "code",
   "execution_count": 7,
   "metadata": {
    "scrolled": true
   },
   "outputs": [
    {
     "name": "stdout",
     "output_type": "stream",
     "text": [
      "0 \t 0 \t 0.999964 \t 0_1.jpg\n",
      "1 \t 0 \t 0.613235 \t 0_11.jpg\n",
      "2 \t 0 \t 0.913949 \t 0_12.jpg\n",
      "3 \t 0 \t 0.999941 \t 0_17.jpg\n",
      "4 \t 0 \t 0.882955 \t 0_20.jpg\n",
      "5 \t 0 \t 0.982541 \t 0_22.jpg\n",
      "6 \t 2 \t 0.505276 \t 0_30.jpg\n",
      "7 \t 2 \t 0.508427 \t 0_34.jpg\n",
      "8 \t 0 \t 0.546492 \t 0_37.jpg\n",
      "9 \t 0 \t 0.995938 \t 0_39.jpg\n",
      "10 \t 0 \t 0.996818 \t 0_41.jpg\n",
      "11 \t 0 \t 0.991986 \t 0_48.jpg\n",
      "12 \t 2 \t 0.916831 \t 1_12.jpg\n",
      "13 \t 1 \t 0.990061 \t 1_15.jpg\n",
      "14 \t 1 \t 0.885314 \t 1_2.jpg\n",
      "15 \t 1 \t 0.641522 \t 1_20.jpg\n",
      "16 \t 1 \t 0.996467 \t 1_23.jpg\n",
      "17 \t 1 \t 0.98738 \t 1_24.jpg\n",
      "18 \t 2 \t 0.971423 \t 1_25.jpg\n",
      "19 \t 1 \t 0.955003 \t 1_40.jpg\n",
      "20 \t 1 \t 0.999244 \t 1_48.jpg\n",
      "21 \t 1 \t 0.987404 \t 1_54.jpg\n",
      "22 \t 2 \t 0.676995 \t 1_55.jpg\n",
      "23 \t 1 \t 0.914244 \t 1_6.jpg\n",
      "24 \t 2 \t 0.997241 \t 2_102.jpg\n",
      "25 \t 1 \t 0.526065 \t 2_106.jpg\n",
      "26 \t 2 \t 0.908002 \t 2_109.jpg\n",
      "27 \t 1 \t 0.74778 \t 2_112.jpg\n",
      "28 \t 2 \t 0.585143 \t 2_114.jpg\n",
      "29 \t 2 \t 0.9975 \t 2_126.jpg\n",
      "30 \t 2 \t 0.936717 \t 2_130.jpg\n",
      "31 \t 2 \t 0.999677 \t 2_131.jpg\n",
      "32 \t 2 \t 0.990344 \t 2_133.jpg\n",
      "33 \t 0 \t 0.72476 \t 2_135.jpg\n",
      "34 \t 2 \t 0.575633 \t 2_144.jpg\n",
      "35 \t 2 \t 0.989954 \t 2_153.jpg\n",
      "36 \t 2 \t 0.99902 \t 2_157.jpg\n",
      "37 \t 2 \t 0.988719 \t 2_158.jpg\n",
      "38 \t 2 \t 0.798579 \t 2_16.jpg\n",
      "39 \t 2 \t 0.995745 \t 2_163.jpg\n",
      "40 \t 2 \t 0.771187 \t 2_164.jpg\n",
      "41 \t 2 \t 0.876535 \t 2_21.jpg\n",
      "42 \t 2 \t 0.930634 \t 2_22.jpg\n",
      "43 \t 2 \t 0.9623 \t 2_29.jpg\n",
      "44 \t 1 \t 0.730033 \t 2_4.jpg\n",
      "45 \t 2 \t 0.593326 \t 2_47.jpg\n",
      "46 \t 2 \t 0.972769 \t 2_50.jpg\n",
      "47 \t 2 \t 0.998764 \t 2_57.jpg\n",
      "48 \t 2 \t 0.759514 \t 2_6.jpg\n",
      "49 \t 2 \t 0.686243 \t 2_65.jpg\n",
      "50 \t 2 \t 0.977945 \t 2_7.jpg\n",
      "51 \t 2 \t 0.992542 \t 2_74.jpg\n",
      "52 \t 2 \t 0.998233 \t 2_79.jpg\n",
      "53 \t 1 \t 0.812674 \t 2_87.jpg\n",
      "54 \t 2 \t 0.999408 \t 2_91.jpg\n",
      "55 \t 2 \t 0.95933 \t 2_92.jpg\n",
      "56 \t 1 \t 0.587068 \t 2_95.jpg\n",
      "57 \t 3 \t 0.999188 \t 3_1.jpg\n",
      "58 \t 3 \t 0.998926 \t 3_102.jpg\n",
      "59 \t 3 \t 0.989877 \t 3_110.jpg\n",
      "60 \t 3 \t 0.992244 \t 3_116.jpg\n",
      "61 \t 3 \t 0.995667 \t 3_119.jpg\n",
      "62 \t 3 \t 0.953838 \t 3_121.jpg\n",
      "63 \t 3 \t 0.969335 \t 3_126.jpg\n",
      "64 \t 3 \t 0.996963 \t 3_129.jpg\n",
      "65 \t 3 \t 0.999419 \t 3_140.jpg\n",
      "66 \t 3 \t 0.989849 \t 3_143.jpg\n",
      "67 \t 3 \t 0.993781 \t 3_144.jpg\n",
      "68 \t 3 \t 0.938016 \t 3_149.jpg\n",
      "69 \t 3 \t 0.995889 \t 3_15.jpg\n",
      "70 \t 3 \t 0.999555 \t 3_150.jpg\n",
      "71 \t 3 \t 0.925918 \t 3_154.jpg\n",
      "72 \t 3 \t 0.982062 \t 3_161.jpg\n",
      "73 \t 3 \t 0.998605 \t 3_163.jpg\n",
      "74 \t 3 \t 0.996576 \t 3_164.jpg\n",
      "75 \t 3 \t 0.998394 \t 3_17.jpg\n",
      "76 \t 3 \t 0.818337 \t 3_172.jpg\n",
      "77 \t 3 \t 0.942108 \t 3_176.jpg\n",
      "78 \t 3 \t 0.963596 \t 3_181.jpg\n",
      "79 \t 3 \t 0.999318 \t 3_21.jpg\n",
      "80 \t 3 \t 0.998598 \t 3_40.jpg\n",
      "81 \t 3 \t 0.935602 \t 3_41.jpg\n",
      "82 \t 3 \t 0.868532 \t 3_49.jpg\n",
      "83 \t 3 \t 0.997045 \t 3_58.jpg\n",
      "84 \t 3 \t 0.984639 \t 3_6.jpg\n",
      "85 \t 3 \t 0.999593 \t 3_60.jpg\n",
      "86 \t 3 \t 0.998013 \t 3_63.jpg\n",
      "87 \t 3 \t 0.997241 \t 3_66.jpg\n",
      "88 \t 3 \t 0.978182 \t 3_68.jpg\n",
      "89 \t 3 \t 0.894034 \t 3_72.jpg\n",
      "90 \t 3 \t 0.894198 \t 3_73.jpg\n",
      "91 \t 3 \t 0.998902 \t 3_76.jpg\n",
      "92 \t 3 \t 0.997244 \t 3_78.jpg\n",
      "93 \t 3 \t 0.998992 \t 3_88.jpg\n",
      "94 \t 1 \t 0.444723 \t 3_93.jpg\n",
      "95 \t 4 \t 0.997054 \t 4_104.jpg\n",
      "96 \t 4 \t 0.966306 \t 4_11.jpg\n",
      "97 \t 4 \t 0.784634 \t 4_118.jpg\n",
      "98 \t 4 \t 0.993843 \t 4_124.jpg\n",
      "99 \t 4 \t 0.993665 \t 4_129.jpg\n",
      "100 \t 4 \t 0.985152 \t 4_13.jpg\n",
      "101 \t 4 \t 0.994635 \t 4_138.jpg\n",
      "102 \t 4 \t 0.993406 \t 4_148.jpg\n",
      "103 \t 4 \t 0.997403 \t 4_17.jpg\n",
      "104 \t 4 \t 0.997573 \t 4_27.jpg\n",
      "105 \t 4 \t 0.997324 \t 4_28.jpg\n",
      "106 \t 4 \t 0.996362 \t 4_32.jpg\n",
      "107 \t 4 \t 0.992282 \t 4_33.jpg\n",
      "108 \t 4 \t 0.991939 \t 4_34.jpg\n",
      "109 \t 4 \t 0.998297 \t 4_37.jpg\n",
      "110 \t 4 \t 0.990214 \t 4_38.jpg\n",
      "111 \t 4 \t 0.998374 \t 4_46.jpg\n",
      "112 \t 4 \t 0.997759 \t 4_48.jpg\n",
      "113 \t 4 \t 0.991747 \t 4_50.jpg\n",
      "114 \t 4 \t 0.617087 \t 4_56.jpg\n",
      "115 \t 4 \t 0.994432 \t 4_59.jpg\n",
      "116 \t 4 \t 0.986552 \t 4_60.jpg\n",
      "117 \t 4 \t 0.997718 \t 4_63.jpg\n",
      "118 \t 4 \t 0.985784 \t 4_66.jpg\n",
      "119 \t 4 \t 0.991056 \t 4_71.jpg\n",
      "120 \t 4 \t 0.994911 \t 4_85.jpg\n",
      "121 \t 4 \t 0.998537 \t 4_88.jpg\n",
      "122 \t 4 \t 0.99809 \t 4_91.jpg\n",
      "123 \t 4 \t 0.994971 \t 4_93.jpg\n",
      "124 \t 4 \t 0.996747 \t 4_97.jpg\n",
      "125 \t 4 \t 0.998481 \t 4_99.jpg\n"
     ]
    }
   ],
   "source": [
    "for i in range (len(classify.labels)):\n",
    "    print (i, \"\\t\", classify.labels[i][1:2], \"\\t\",classify.rates[i], \"\\t\", classify.sampleNames[i])"
   ]
  },
  {
   "cell_type": "code",
   "execution_count": 8,
   "metadata": {},
   "outputs": [
    {
     "name": "stdout",
     "output_type": "stream",
     "text": [
      "6 \t 02 \t 0_30.jpg\n",
      "7 \t 02 \t 0_34.jpg\n",
      "12 \t 02 \t 1_12.jpg\n",
      "18 \t 02 \t 1_25.jpg\n",
      "22 \t 02 \t 1_55.jpg\n",
      "25 \t 01 \t 2_106.jpg\n",
      "27 \t 01 \t 2_112.jpg\n",
      "33 \t 00 \t 2_135.jpg\n",
      "44 \t 01 \t 2_4.jpg\n",
      "53 \t 01 \t 2_87.jpg\n",
      "56 \t 01 \t 2_95.jpg\n",
      "94 \t 01 \t 3_93.jpg\n",
      "Test accuracy: 0.9047619047619048\n"
     ]
    }
   ],
   "source": [
    "counter = 0\n",
    "for i in range (len(classify.labels)):\n",
    "    if classify.labels[i][1:2] != classify.sampleNames[i][:1]:\n",
    "        counter += 1\n",
    "        print (i, \"\\t\", classify.labels[i][:2], \"\\t\", classify.sampleNames[i])\n",
    "print (\"Test accuracy: {}\".format(1-counter/len(classify.labels)))"
   ]
  },
  {
   "cell_type": "code",
   "execution_count": null,
   "metadata": {
    "collapsed": true
   },
   "outputs": [],
   "source": []
  },
  {
   "cell_type": "raw",
   "metadata": {
    "collapsed": true
   },
   "source": [
    "Training accuracy = 99.0% \n",
    "Validation accuracy = 79.0% (N=100)\n",
    "Final test accuracy = 90.4% (N=104)\n",
    "Test accuracy: 0.9047619047619048"
   ]
  }
 ],
 "metadata": {
  "kernelspec": {
   "display_name": "Python 3",
   "language": "python",
   "name": "python3"
  },
  "language_info": {
   "codemirror_mode": {
    "name": "ipython",
    "version": 3
   },
   "file_extension": ".py",
   "mimetype": "text/x-python",
   "name": "python",
   "nbconvert_exporter": "python",
   "pygments_lexer": "ipython3",
   "version": "3.6.3"
  }
 },
 "nbformat": 4,
 "nbformat_minor": 2
}
